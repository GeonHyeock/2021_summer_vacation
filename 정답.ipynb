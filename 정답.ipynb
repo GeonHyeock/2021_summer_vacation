{
 "cells": [
  {
   "cell_type": "markdown",
   "metadata": {},
   "source": [
    "정답 파일"
   ]
  },
  {
   "cell_type": "code",
   "execution_count": 1,
   "metadata": {},
   "outputs": [],
   "source": [
    "import os\n",
    "import cv2\n",
    "import numpy as np\n",
    "import pandas as pd\n",
    "from sklearn.model_selection import train_test_split\n",
    "from sklearn.svm import SVC\n",
    "from sklearn.decomposition import PCA as RandomizedPCA\n",
    "from sklearn.pipeline import make_pipeline\n",
    "import joblib\n",
    "from sklearn.metrics import roc_curve\n",
    "from sklearn.metrics import roc_auc_score\n",
    "from numpy.linalg import norm\n",
    "from numpy import dot\n",
    "from sklearn.ensemble import BaggingClassifier"
   ]
  },
  {
   "cell_type": "code",
   "execution_count": 2,
   "metadata": {},
   "outputs": [],
   "source": [
    "# 데이터 불러오기\n",
    "left_test_img = np.array(pd.read_csv(\"/Users/heogeonhyeock/Desktop/left_test_data\"))\n",
    "right_test_img = np.array(pd.read_csv(\"/Users/heogeonhyeock/Desktop/right_test_data\"))"
   ]
  },
  {
   "cell_type": "code",
   "execution_count": null,
   "metadata": {},
   "outputs": [],
   "source": [
    "# 모델 적용 및 정답 파일 저장\n",
    "model = joblib.load('/Users/heogeonhyeock/inha_challenge/Inha_svc_8.14.pkl')\n",
    "\n",
    "predict = []\n",
    "\n",
    "predict_left_prob = model.predict_proba(left_test_img)\n",
    "predict_right_prob = model.predict_proba(right_test_img)\n",
    "\n",
    "def cos_sim(A, B):\n",
    "       return dot(A, B)/(norm(A)*norm(B))\n",
    "    \n",
    "for i in range(len(predict_left_prob)):\n",
    "    predict_cos = cos_sim(predict_left_prob[i],predict_right_prob[i])\n",
    "    predict.append(predict_cos)\n",
    "\n",
    "submission = pd.read_csv(\"/Users/heogeonhyeock/Downloads/inha_data/inha_data/sample_submission.csv\")\n",
    "submission[\"answer\"] = predict[:]\n",
    "\n",
    "path = '/Users/heogeonhyeock/Downloads/inha_data/inha_data'\n",
    "os.chdir(path)\n",
    "submission.to_csv(\"submission.csv\", index = False)\n",
    "\n",
    "submission"
   ]
  },
  {
   "cell_type": "code",
   "execution_count": null,
   "metadata": {},
   "outputs": [],
   "source": []
  }
 ],
 "metadata": {
  "kernelspec": {
   "display_name": "Python 3",
   "language": "python",
   "name": "python3"
  },
  "language_info": {
   "codemirror_mode": {
    "name": "ipython",
    "version": 3
   },
   "file_extension": ".py",
   "mimetype": "text/x-python",
   "name": "python",
   "nbconvert_exporter": "python",
   "pygments_lexer": "ipython3",
   "version": "3.8.5"
  }
 },
 "nbformat": 4,
 "nbformat_minor": 4
}
