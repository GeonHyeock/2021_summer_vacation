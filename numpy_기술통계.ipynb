{
 "cells": [
  {
   "cell_type": "code",
   "execution_count": 4,
   "metadata": {},
   "outputs": [
    {
     "name": "stdout",
     "output_type": "stream",
     "text": [
      "49.62801487979949\n",
      "49.628014879799494\n"
     ]
    }
   ],
   "source": [
    "import numpy as np\n",
    "L = np.random.random(100)\n",
    "print(np.sum(L))\n",
    "print(sum(L))"
   ]
  },
  {
   "cell_type": "code",
   "execution_count": 5,
   "metadata": {},
   "outputs": [
    {
     "name": "stdout",
     "output_type": "stream",
     "text": [
      "194 µs ± 26.3 ns per loop (mean ± std. dev. of 7 runs, 10000 loops each)\n",
      "139 ms ± 1.42 ms per loop (mean ± std. dev. of 7 runs, 10 loops each)\n"
     ]
    }
   ],
   "source": [
    "# sum 보다 np.sum의 연산 속도가 더 빠름 \n",
    "big_array = np.random.rand(1000000)\n",
    "%timeit np.sum(big_array)\n",
    "%timeit sum(big_array)\n"
   ]
  },
  {
   "cell_type": "code",
   "execution_count": 8,
   "metadata": {},
   "outputs": [
    {
     "data": {
      "text/plain": [
       "(2.7390394141679764e-07, 0.9999996004713335, 499627.23801941983)"
      ]
     },
     "execution_count": 8,
     "metadata": {},
     "output_type": "execute_result"
    }
   ],
   "source": [
    "# 최대 최소\n",
    "np.min(big_array), np.max(big_array)\n",
    "\n",
    "# 배열 객체 자체의 메서드를 사용하는 짧은 구문\n",
    "big_array.min() , big_array.max(), big_array.sum()"
   ]
  },
  {
   "cell_type": "code",
   "execution_count": 12,
   "metadata": {},
   "outputs": [
    {
     "name": "stdout",
     "output_type": "stream",
     "text": [
      "[[0.5436494  0.72274785 0.91009211 0.70323941]\n",
      " [0.72201888 0.76253703 0.07802987 0.54588812]\n",
      " [0.5343249  0.89754908 0.0669536  0.86776382]]\n"
     ]
    },
    {
     "data": {
      "text/plain": [
       "array([0.59999773, 0.79427799, 0.35169186, 0.70563045])"
      ]
     },
     "execution_count": 12,
     "metadata": {},
     "output_type": "execute_result"
    }
   ],
   "source": [
    "# 다차원 집계\n",
    "M = np.random.random((3,4))\n",
    "print(M)\n",
    "\n",
    "M.sum()\n",
    "M.mean(axis=0)  #axis 키워드는 반환할 차원이 아닌 축소할 배열의 차원을 지정"
   ]
  },
  {
   "cell_type": "code",
   "execution_count": 13,
   "metadata": {},
   "outputs": [
    {
     "data": {
      "text/plain": [
       "'\\n기타 집계 함수\\nnp.sum\\nnp.prod\\nnp.mean\\nnp.std\\nnp.var\\nnp.min\\nnp.max\\nnp.argmin : 최솟값의 인덱스\\nnp.argmax : 최댓값의 인덱스\\nnp.median\\nnp.percentile\\nnp.any\\nnp.all\\n'"
      ]
     },
     "execution_count": 13,
     "metadata": {},
     "output_type": "execute_result"
    }
   ],
   "source": [
    "\"\"\"\n",
    "기타 집계 함수\n",
    "np.sum\n",
    "np.prod\n",
    "np.mean\n",
    "np.std\n",
    "np.var\n",
    "np.min\n",
    "np.max\n",
    "np.argmin : 최솟값의 인덱스\n",
    "np.argmax : 최댓값의 인덱스\n",
    "np.median\n",
    "np.percentile\n",
    "np.any\n",
    "np.all\n",
    "\n",
    "NaN 안전 모드\n",
    "np.(nan)함수\n",
    "\"\"\""
   ]
  },
  {
   "cell_type": "code",
   "execution_count": 77,
   "metadata": {},
   "outputs": [
    {
     "name": "stdout",
     "output_type": "stream",
     "text": [
      "[189 170 189 163 183 171 185 168 173 183 173 173 175 178 183 193 178 173\n",
      " 174 183 183 168 170 178 182 180 183 178 182 188 175 179 183 193 182 183\n",
      " 177 185 188 188 182 185]\n"
     ]
    },
    {
     "data": {
      "text/plain": [
       "183.0"
      ]
     },
     "execution_count": 77,
     "metadata": {},
     "output_type": "execute_result"
    }
   ],
   "source": [
    "# 예제 미국 대통령의 평균 신장은 얼마일까?\n",
    "import pandas as pd\n",
    "data = pd.read_csv(\"/Users/heogeonhyeock/president_heights.csv\")\n",
    "heights = np.array(data['height(cm)'])\n",
    "print(heights)\n",
    "np.mean(heights)\n",
    "np.std(heights)\n",
    "np.max(heights)\n",
    "np.min(heights)\n",
    "np.percentile(heights,25)\n",
    "np.median(heights)\n",
    "np.percentile(heights,75)"
   ]
  },
  {
   "cell_type": "code",
   "execution_count": 83,
   "metadata": {},
   "outputs": [
    {
     "data": {
      "image/png": "[encoded data removed]",
      "text/plain": [
       "<Figure size 432x288 with 1 Axes>"
      ]
     },
     "metadata": {},
     "output_type": "display_data"
    }
   ],
   "source": [
    "#시각화\n",
    "%matplotlib inline\n",
    "import matplotlib.pyplot as plt\n",
    "import seaborn; seaborn.set()\n",
    "plt.hist(heights)\n",
    "plt.title(\"Height Distribution of Us Presidents\")\n",
    "plt.xlabel(\"height(cm)\")\n",
    "plt.ylabel(\"number\");"
   ]
  },
  {
   "cell_type": "code",
   "execution_count": null,
   "metadata": {},
   "outputs": [],
   "source": []
  }
 ],
 "metadata": {
  "kernelspec": {
   "display_name": "Python 3",
   "language": "python",
   "name": "python3"
  },
  "language_info": {
   "codemirror_mode": {
    "name": "ipython",
    "version": 3
   },
   "file_extension": ".py",
   "mimetype": "text/x-python",
   "name": "python",
   "nbconvert_exporter": "python",
   "pygments_lexer": "ipython3",
   "version": "3.8.5"
  }
 },
 "nbformat": 4,
 "nbformat_minor": 4
}
