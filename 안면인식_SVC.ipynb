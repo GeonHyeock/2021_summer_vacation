{
 "cells": [
  {
   "cell_type": "markdown",
   "metadata": {},
   "source": [
    "# 고려 사항\n",
    "##### 모델 사이즈 : 원본 사이즈는 112 X 112\n",
    "##### 표본의 크기 : Max size ( 타켓별 랜덤샘플링 할때의 최대 표본 크기)\n",
    "##### 주성분 크기 : pca\n",
    "##### svc 파라미터 : gamma, c 값 (그리드서치이용)"
   ]
  },
  {
   "cell_type": "code",
   "execution_count": 1,
   "metadata": {},
   "outputs": [],
   "source": [
    "model_size = (56,56)\n",
    "sample_size = 10\n",
    "pca_size = 100\n",
    "index_size = 125000"
   ]
  },
  {
   "cell_type": "markdown",
   "metadata": {
    "tags": []
   },
   "source": [
    "라이브러리 불러오기"
   ]
  },
  {
   "cell_type": "code",
   "execution_count": 3,
   "metadata": {
    "tags": []
   },
   "outputs": [],
   "source": [
    "import os\n",
    "import cv2\n",
    "import numpy as np\n",
    "import pandas as pd\n",
    "from sklearn.model_selection import train_test_split\n",
    "from sklearn.svm import SVC\n",
    "from sklearn.decomposition import PCA as RandomizedPCA\n",
    "from sklearn.pipeline import make_pipeline\n",
    "import joblib\n",
    "from numpy.linalg import norm\n",
    "from numpy import dot"
   ]
  },
  {
   "cell_type": "markdown",
   "metadata": {},
   "source": [
    "데이터 불러오기"
   ]
  },
  {
   "cell_type": "code",
   "execution_count": 4,
   "metadata": {},
   "outputs": [],
   "source": [
    "def sampling_func(data, max_size):\n",
    "    N = len(data)\n",
    "    sample_n = len(data) \n",
    "    if sample_n > max_size:\n",
    "        sample = data.take(np.random.permutation(N)[:max_size])\n",
    "    else:\n",
    "        sample = data.take(np.random.permutation(N)[:len(data)])\n",
    "    return sample\n",
    "\n",
    "ID_List = pd.read_table('/Users/heogeonhyeock/Downloads/inha_data/inha_data/ID_List.txt',\n",
    "                       sep = \" \",\n",
    "                       names = [\"name\", \"path\"])\n",
    "\n",
    "ID_List_sample = ID_List.groupby('name', group_keys = False\n",
    "                                ).apply(sampling_func, max_size = sample_size).reset_index()\n"
   ]
  },
  {
   "cell_type": "code",
   "execution_count": 5,
   "metadata": {},
   "outputs": [],
   "source": [
    "train_img = []\n",
    "train_name = []\n",
    "\n",
    "for index in range(index_size):\n",
    "    A = \"/Users/heogeonhyeock/Downloads/inha_data/inha_data/\" + ID_List_sample['path'][index]\n",
    "    file = cv2.resize(cv2.imread(A,0), model_size).reshape(1,-1)[0]\n",
    "    train_img.append(file) # 리스트에 이미지 추가\n",
    "    train_name.append(ID_List_sample['name'][index])\n",
    "\n",
    "train_img = np.array(train_img)\n",
    "train_name = np.array(train_name)\n",
    "\n",
    "train = dict(data = train_img,\n",
    "            target = train_name)"
   ]
  },
  {
   "cell_type": "markdown",
   "metadata": {},
   "source": [
    "모델"
   ]
  },
  {
   "cell_type": "code",
   "execution_count": 6,
   "metadata": {},
   "outputs": [],
   "source": [
    "# 모델 생성\n",
    "pca = RandomizedPCA(n_components = pca_size, whiten=True)\n",
    "svc = SVC(kernel = \"rbf\", C= 5, gamma=0.01,\n",
    "        probability=True ,cache_size=10000)\n",
    "model = make_pipeline(pca,svc)"
   ]
  },
  {
   "cell_type": "code",
   "execution_count": 7,
   "metadata": {},
   "outputs": [
    {
     "data": {
      "text/plain": [
       "Pipeline(steps=[('pca', PCA(n_components=100, whiten=True)),\n",
       "                ('svc',\n",
       "                 SVC(C=5, cache_size=10000, gamma=0.01, probability=True))])"
      ]
     },
     "execution_count": 7,
     "metadata": {},
     "output_type": "execute_result"
    }
   ],
   "source": [
    "\"\"\"\n",
    "# 하이퍼 파라미터 튜닝\n",
    "from sklearn.model_selection import GridSearchCV\n",
    "\n",
    "param_grid = {'svc__C' : [1,5,10,15],\n",
    "              'svc__gamma' : [0.001,0.005,0.01,0.05]}\n",
    "\n",
    "grid = GridSearchCV(model, param_grid, cv=3 ,n_jobs=6)\n",
    "grid.fit(train['data'], train['target'])\n",
    "\n",
    "model = grid.best_estimator_\n",
    "\"\"\"\n",
    "\n",
    "# 모델 훈련\n",
    "model.fit(train['data'], train['target'])"
   ]
  },
  {
   "cell_type": "code",
   "execution_count": 8,
   "metadata": {},
   "outputs": [
    {
     "data": {
      "text/plain": [
       "['./Inha_svc_8.14.pkl']"
      ]
     },
     "execution_count": 8,
     "metadata": {},
     "output_type": "execute_result"
    }
   ],
   "source": [
    "# 모델 저장\n",
    "joblib.dump(model, './Inha_svc_8.14.pkl')"
   ]
  },
  {
   "cell_type": "markdown",
   "metadata": {},
   "source": [
    "모델 적용"
   ]
  },
  {
   "cell_type": "code",
   "execution_count": 9,
   "metadata": {},
   "outputs": [],
   "source": [
    "# 테스트 데이터\n",
    "left_test_img = []\n",
    "right_test_img = []\n",
    "\n",
    "for index in range(6000):\n",
    "    A = \"/Users/heogeonhyeock/Downloads/inha_data/inha_data/test/left_face_\" + str(index) + \".jpg\"\n",
    "    B = \"/Users/heogeonhyeock/Downloads/inha_data/inha_data/test/right_face_\" + str(index) + \".jpg\" \n",
    "    \n",
    "    file_left = cv2.resize(cv2.imread(A,0), model_size).reshape(1,-1)[0]\n",
    "    \n",
    "    file_right = cv2.resize(cv2.imread(B,0), model_size).reshape(1,-1)[0]\n",
    "\n",
    "    left_test_img.append(file_left)\n",
    "    right_test_img.append(file_right)\n"
   ]
  },
  {
   "cell_type": "code",
   "execution_count": null,
   "metadata": {
    "scrolled": true
   },
   "outputs": [],
   "source": [
    "# 정답 저장 코사인 유사도\n",
    "\n",
    "predict = []\n",
    "\n",
    "predict_left_prob = model.predict_proba(left_test_img)\n",
    "predict_right_prob = model.predict_proba(right_test_img)\n",
    "\n",
    "def cos_sim(A, B):\n",
    "       return dot(A, B)/(norm(A)*norm(B))\n",
    "    \n",
    "for i in range(len(predict_left_prob)):\n",
    "    predict_cos = cos_sim(predict_left_prob[i],predict_right_prob[i])\n",
    "    predict.append(predict_cos)\n",
    "\n",
    "submission = pd.read_csv(\"/Users/heogeonhyeock/Downloads/inha_data/inha_data/sample_submission.csv\")\n",
    "submission[\"answer\"] = predict[:]\n",
    "\n",
    "path = '/Users/heogeonhyeock/Downloads/inha_data/inha_data'\n",
    "os.chdir(path)\n",
    "submission.to_csv(\"submission.csv\", index = False)\n",
    "\n",
    "submission"
   ]
  }
 ],
 "metadata": {
  "kernelspec": {
   "display_name": "Python 3 (ipykernel)",
   "language": "python",
   "name": "python3"
  },
  "language_info": {
   "codemirror_mode": {
    "name": "ipython",
    "version": 3
   },
   "file_extension": ".py",
   "mimetype": "text/x-python",
   "name": "python",
   "nbconvert_exporter": "python",
   "pygments_lexer": "ipython3",
   "version": "3.8.6"
  }
 },
 "nbformat": 4,
 "nbformat_minor": 4
}
