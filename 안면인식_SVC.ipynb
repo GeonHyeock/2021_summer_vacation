{
 "cells": [
  {
   "cell_type": "markdown",
   "metadata": {},
   "source": [
    "데이터 불러오기"
   ]
  },
  {
   "cell_type": "code",
   "execution_count": 1,
   "metadata": {},
   "outputs": [
    {
     "name": "stdout",
     "output_type": "stream",
     "text": [
      "281.53580379486084\n"
     ]
    }
   ],
   "source": [
    "# 훈련데이터\n",
    "import time\n",
    "start = time.time()\n",
    "\n",
    "import cv2\n",
    "import numpy as np\n",
    "import pandas as pd\n",
    "\n",
    "ID_List = pd.read_table('/Users/heogeonhyeock/Downloads/inha_data/inha_data/ID_List.txt',\n",
    "                       sep = \" \",\n",
    "                       names = [\"name\", \"path\"])\n",
    "\n",
    "train_img = []\n",
    "train_name = []\n",
    "\n",
    "\n",
    "\n",
    "for index in range(len(ID_List)):\n",
    "    A = \"/Users/heogeonhyeock/Downloads/inha_data/inha_data/\" + ID_List['path'][index]\n",
    "    file = cv2.imread(A,0) # 회색\n",
    "    file = cv2.resize(file, (50, 50)) # 이미지 크기 변경\n",
    "    file = file.reshape(1,-1)[0] # 한 행으로 변경\n",
    "    train_img.append(file) # 리스트에 이미지 추가\n",
    "    train_name.append(ID_List['name'][index])\n",
    "\n",
    "train_img = np.array(train_img)\n",
    "train_name = np.array(train_name)\n",
    "\n",
    "train = dict(data = train_img,\n",
    "            target = train_name)\n",
    "\n",
    "end = time.time()\n",
    "print(end - start)"
   ]
  },
  {
   "cell_type": "markdown",
   "metadata": {},
   "source": [
    "모델"
   ]
  },
  {
   "cell_type": "code",
   "execution_count": 2,
   "metadata": {},
   "outputs": [],
   "source": [
    "# 데이터 분할\n",
    "\n",
    "from sklearn.model_selection import train_test_split\n",
    "\n",
    "Xtrain, Xvaild, Ytrain, Yvaild = train_test_split(train['data'],\n",
    "                                                train['target'], \n",
    "                                                test_size = 1/3,  stratify=train['target'])"
   ]
  },
  {
   "cell_type": "code",
   "execution_count": 3,
   "metadata": {},
   "outputs": [],
   "source": [
    "# 모델 생성\n",
    "\n",
    "from sklearn.svm import SVC\n",
    "from sklearn.decomposition import PCA as RandomizedPCA\n",
    "from sklearn.pipeline import make_pipeline\n",
    "\n",
    "pca = RandomizedPCA(n_components = 150, whiten=True)\n",
    "svc = SVC(kernel = \"rbf\", class_weight = \"balanced\", C=5, gamma = 0.005)\n",
    "model = make_pipeline(pca,svc)"
   ]
  },
  {
   "cell_type": "code",
   "execution_count": null,
   "metadata": {},
   "outputs": [],
   "source": [
    "# 하이퍼 파라미터 튜닝\n",
    "\n",
    "\"\"\"\n",
    "from sklearn.model_selection import GridSearchCV\n",
    "\n",
    "param_grid = {'svc__C' : [5],\n",
    "              'svc__gamma' : [0.005]}\n",
    "\n",
    "grid = GridSearchCV(model, param_grid, cv=2, n_jobs=-1)\n",
    "grid.fit(Xtrain, ytrain)\n",
    "\n",
    "model = grid.best_estimator_\n",
    "\"\"\"\n",
    "\n",
    "model.fit(Xtrain, Ytrain)"
   ]
  },
  {
   "cell_type": "code",
   "execution_count": null,
   "metadata": {},
   "outputs": [],
   "source": [
    "# 모델 저장\n",
    "import joblib\n",
    "joblib.dump(model, './Inha.pkl')"
   ]
  },
  {
   "cell_type": "markdown",
   "metadata": {},
   "source": [
    "모델 적용"
   ]
  },
  {
   "cell_type": "code",
   "execution_count": null,
   "metadata": {},
   "outputs": [],
   "source": [
    "# 테스트 데이터\n",
    "\n",
    "left_test_img = []\n",
    "right_test_img = []\n",
    "\n",
    "for index in range(6000):\n",
    "    A = \"/Users/heogeonhyeock/Downloads/inha_data/inha_data/test/left_face_\" + str(index) + \".jpg\"\n",
    "    B = \"/Users/heogeonhyeock/Downloads/inha_data/inha_data/test/right_face_\" + str(index) + \".jpg\" \n",
    "    \n",
    "    file_left = cv2.imread(A,0) # 음영처리\n",
    "    file_left = cv2.resize(file_left, (50, 50)) # 이미지 크기 변경\n",
    "    file_left = file_left.reshape(1,-1)[0] # 한 행으로 변경\n",
    "    \n",
    "    file_right = cv2.imread(B,0)\n",
    "    file_right = cv2.resize(file_right, (50,50))\n",
    "    file_right = file_right.reshape(1,-1)[0]\n",
    "    \n",
    "    left_test_img.append(file_left)\n",
    "    right_test_img.append(file_right)\n"
   ]
  },
  {
   "cell_type": "code",
   "execution_count": null,
   "metadata": {
    "scrolled": true
   },
   "outputs": [],
   "source": [
    "# 정답 저장\n",
    "\n",
    "import os\n",
    "\n",
    "predict = model.predict((left_test_img))\n",
    "\n",
    "submission = pd.read_csv(\"/Users/heogeonhyeock/Downloads/inha_data/inha_data/sample_submission.csv\")\n",
    "submission[\"answer\"] = predict[:6000]\n",
    "\n",
    "path = '/Users/heogeonhyeock/Downloads/inha_data/inha_data'\n",
    "os.chdir(path)\n",
    "submission.to_csv(\"submission.csv\", index = False)\n",
    "\n",
    "submission"
   ]
  },
  {
   "cell_type": "code",
   "execution_count": 14,
   "metadata": {},
   "outputs": [],
   "source": []
  },
  {
   "cell_type": "code",
   "execution_count": null,
   "metadata": {},
   "outputs": [],
   "source": []
  }
 ],
 "metadata": {
  "kernelspec": {
   "display_name": "Python 3",
   "language": "python",
   "name": "python3"
  },
  "language_info": {
   "codemirror_mode": {
    "name": "ipython",
    "version": 3
   },
   "file_extension": ".py",
   "mimetype": "text/x-python",
   "name": "python",
   "nbconvert_exporter": "python",
   "pygments_lexer": "ipython3",
   "version": "3.8.5"
  }
 },
 "nbformat": 4,
 "nbformat_minor": 4
}
