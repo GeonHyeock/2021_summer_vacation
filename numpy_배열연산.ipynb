{
 "cells": [
  {
   "cell_type": "code",
   "execution_count": 8,
   "metadata": {},
   "outputs": [
    {
     "data": {
      "text/plain": [
       "array([0.25      , 0.125     , 0.33333333, 0.33333333, 0.125     ])"
      ]
     },
     "execution_count": 8,
     "metadata": {},
     "output_type": "execute_result"
    }
   ],
   "source": [
    "import numpy as np\n",
    "\n",
    "# 루프는 느리다.\n",
    "\n",
    "def compute_reciprocals(Values):\n",
    "    output = np.empty(len(Values))\n",
    "    for i in range(len(Values)):\n",
    "        output[i] = 1.0 / Values[i]\n",
    "    return output\n",
    "\n",
    "Values = np.random.randint(1,10, size=5)\n",
    "compute_reciprocals(Values)"
   ]
  },
  {
   "cell_type": "code",
   "execution_count": 9,
   "metadata": {},
   "outputs": [
    {
     "name": "stdout",
     "output_type": "stream",
     "text": [
      "1.53 s ± 9.99 ms per loop (mean ± std. dev. of 7 runs, 1 loop each)\n"
     ]
    }
   ],
   "source": [
    "#100만번 연산의 속도\n",
    "big_array = np.random.randint(1,100, size=1000000)\n",
    "%timeit compute_reciprocals(big_array)"
   ]
  },
  {
   "cell_type": "code",
   "execution_count": 11,
   "metadata": {},
   "outputs": [
    {
     "name": "stdout",
     "output_type": "stream",
     "text": [
      "[0.16666667 0.11111111 0.25       0.33333333 0.11111111]\n",
      "[0.16666667 0.11111111 0.25       0.33333333 0.11111111]\n"
     ]
    }
   ],
   "source": [
    "# UFuncs\n",
    "print(compute_reciprocals(values))\n",
    "print(1.0 / values)"
   ]
  },
  {
   "cell_type": "code",
   "execution_count": 12,
   "metadata": {},
   "outputs": [
    {
     "name": "stdout",
     "output_type": "stream",
     "text": [
      "609 µs ± 2.48 µs per loop (mean ± std. dev. of 7 runs, 1000 loops each)\n"
     ]
    }
   ],
   "source": [
    "%timeit (1.0 / big_array) # 파이썬 루프보다 수백 배 빠른 속도로 작업을 완료함"
   ]
  },
  {
   "cell_type": "code",
   "execution_count": 17,
   "metadata": {},
   "outputs": [
    {
     "name": "stdout",
     "output_type": "stream",
     "text": [
      "[0.         0.5        0.66666667 0.75       0.8       ]\n"
     ]
    },
    {
     "data": {
      "text/plain": [
       "array([[  1,   2,   4],\n",
       "       [  8,  16,  32],\n",
       "       [ 64, 128, 256]])"
      ]
     },
     "execution_count": 17,
     "metadata": {},
     "output_type": "execute_result"
    }
   ],
   "source": [
    "# 두 배열간의 연산 및 다차원 베열에서도 동작\n",
    "print(np.arange(5) / np.arange(1,6))\n",
    "\n",
    "x = np.arange(9).reshape(3,3)\n",
    "(2**x)"
   ]
  },
  {
   "cell_type": "code",
   "execution_count": 22,
   "metadata": {},
   "outputs": [
    {
     "name": "stdout",
     "output_type": "stream",
     "text": [
      "x       =  [0 1 2 3]\n",
      "x  +  2 =  [2 3 4 5]\n",
      "x  -  2 =  [-2 -1  0  1]\n",
      "x  *  2 =  [0 2 4 6]\n",
      "x  /  2 =  [0.  0.5 1.  1.5]\n",
      "x //  2 =  [0 0 1 1]\n",
      "-x       =  [ 0 -1 -2 -3]\n",
      "x **  2 =  [0 1 4 9]\n",
      "x  %  2 =  [0 1 0 1]\n"
     ]
    }
   ],
   "source": [
    "# ufuncf를 통한 백터화 연산은 파이썬 루프를 통해 구현된 연산보다 효율적임!\n",
    "\n",
    "#배열 산술 연산 : 사칙연산 가능\n",
    "x = np.arange(4)\n",
    "print(\"x       = \",x)\n",
    "print(\"x  +  2 = \",x + 2)  # np.add\n",
    "print(\"x  -  2 = \",x - 2)  # np.subtract\n",
    "print(\"x  *  2 = \",x * 2)  # np.multiply\n",
    "print(\"x  /  2 = \",x / 2)  # np.divide\n",
    "print(\"x //  2 = \",x // 2) # np.floor_divide\n",
    "print(\"-x       = \",-x)    # np.negative\n",
    "print(\"x **  2 = \",x ** 2) # np.power\n",
    "print(\"x  %  2 = \",x % 2)  # np.mod"
   ]
  },
  {
   "cell_type": "code",
   "execution_count": 37,
   "metadata": {},
   "outputs": [
    {
     "name": "stdout",
     "output_type": "stream",
     "text": [
      "[2 1 0 1 2]\n",
      "[5. 5. 2. 1.]\n",
      "theta = [0.         1.57079633 3.14159265]\n",
      "sin = [0.0000000e+00 1.0000000e+00 1.2246468e-16]\n",
      "cos = [ 1.000000e+00  6.123234e-17 -1.000000e+00]\n",
      "tan = [ 0.00000000e+00  1.63312394e+16 -1.22464680e-16]\n",
      "arcsin = [-1.57079633  0.          1.57079633]\n",
      "arccos = [3.14159265 1.57079633 0.        ]\n",
      "arctan = [-0.78539816  0.          0.78539816]\n"
     ]
    }
   ],
   "source": [
    "# 절댓값 함수\n",
    "x = np.array([-2, -1, 0, 1, 2])\n",
    "print(np.abs(x))\n",
    "y = np.array([3 - 4j, 4 - 3j, 2 + 0j, 0 + 1j]) # 복소수의 경우 크기를 반환\n",
    "print(np.abs(y))\n",
    "\n",
    "# 삼각함수\n",
    "theta = np.linspace(0, np.pi, 3)\n",
    "print(f'theta = {theta}')\n",
    "print(f'sin = {np.sin(theta)}')\n",
    "print(f'cos = {np.cos(theta)}')\n",
    "print(f'tan = {np.tan(theta)}')\n",
    "\n",
    "x = [-1,0,1] #\n",
    "print(f'arcsin = {np.arcsin(x)}')\n",
    "print(f'arccos = {np.arccos(x)}')\n",
    "print(f'arctan = {np.arctan(x)}')\n",
    "\n",
    "# 위 값들은 기계 정밀도 내에서 계산되어 0이어야 하는 값이 언제나 0이 되지는 않는다"
   ]
  },
  {
   "cell_type": "code",
   "execution_count": 45,
   "metadata": {},
   "outputs": [
    {
     "name": "stdout",
     "output_type": "stream",
     "text": [
      "exp : [ 2.71828183  7.3890561  20.08553692]\n",
      "2^x : [2 4 8]\n",
      "ln(y) = [0.         0.69314718 1.38629436 2.30258509]\n",
      "log2(y) = [0.         1.         2.         3.32192809]\n",
      "log10(y) = [0.         0.30103    0.60205999 1.        ]\n"
     ]
    }
   ],
   "source": [
    "# 지수와 로그\n",
    "x = [1, 2, 3]\n",
    "print(f'exp : {np.exp(x)}') # np.expm1(x)의 경우 정확도가 더 큼\n",
    "print(f'2^x : {np.power(2,x)}')\n",
    "\n",
    "y = [1,2,4,10]\n",
    "print(f'ln(y) = {np.log(y)}') # np.lig1p(qy)의 경우 정확도가 더 큼\n",
    "print(f'log2(y) = {np.log2(y)}')\n",
    "print(f'log10(y) = {np.log10(y)}')"
   ]
  },
  {
   "cell_type": "code",
   "execution_count": 48,
   "metadata": {},
   "outputs": [
    {
     "data": {
      "text/plain": [
       "array([0.84270079, 1.        , 1.        ])"
      ]
     },
     "execution_count": 48,
     "metadata": {},
     "output_type": "execute_result"
    }
   ],
   "source": [
    "# 특화된 유니버셜 함수\n",
    "from scipy import special\n",
    "x = [1, 5, 10]\n",
    "special.gamma(x) #감마 함수\n",
    "special.gammaln(x)\n",
    "special.beta(x,2) # 베타 함수\n",
    "special.erf(x) #가우스 적분"
   ]
  },
  {
   "cell_type": "code",
   "execution_count": 55,
   "metadata": {},
   "outputs": [
    {
     "name": "stdout",
     "output_type": "stream",
     "text": [
      "[ 0. 10. 20. 30. 40.]\n",
      "[ 1.  0.  2.  0.  4.  0.  8.  0. 16.  0.]\n"
     ]
    }
   ],
   "source": [
    "# 출력 지정\n",
    "x = np.arange(5)\n",
    "y = np.empty(5)\n",
    "np.multiply(x, 10, out=y)\n",
    "print(y)\n",
    "\n",
    "z = np.zeros(10)\n",
    "np.power(2,x, out=z[::2])\n",
    "print(z)"
   ]
  },
  {
   "cell_type": "code",
   "execution_count": 62,
   "metadata": {},
   "outputs": [
    {
     "data": {
      "text/plain": [
       "array([[ 1,  2,  3,  4,  5],\n",
       "       [ 2,  4,  6,  8, 10],\n",
       "       [ 3,  6,  9, 12, 15],\n",
       "       [ 4,  8, 12, 16, 20],\n",
       "       [ 5, 10, 15, 20, 25]])"
      ]
     },
     "execution_count": 62,
     "metadata": {},
     "output_type": "execute_result"
    }
   ],
   "source": [
    "# 집계\n",
    "\n",
    "# 누적된 연산을 하려면 reduce\n",
    "x = np.arange(1,6)\n",
    "np.add.reduce(x) # 1~5를 더함\n",
    "np.multiply.reduce(x) #1~5를 곱합\n",
    "\n",
    "#계산의 중간과정을 저장하고 싶다면 accumulate\n",
    "np.add.accumulate(x)\n",
    "np.multiply.accumulate(x)\n",
    "\n",
    "#외적 outer\n",
    "x = np.arange(1,6)\n",
    "np.multiply.outer(x,x)\n"
   ]
  },
  {
   "cell_type": "code",
   "execution_count": null,
   "metadata": {},
   "outputs": [],
   "source": []
  }
 ],
 "metadata": {
  "kernelspec": {
   "display_name": "Python 3",
   "language": "python",
   "name": "python3"
  },
  "language_info": {
   "codemirror_mode": {
    "name": "ipython",
    "version": 3
   },
   "file_extension": ".py",
   "mimetype": "text/x-python",
   "name": "python",
   "nbconvert_exporter": "python",
   "pygments_lexer": "ipython3",
   "version": "3.8.5"
  }
 },
 "nbformat": 4,
 "nbformat_minor": 4
}
