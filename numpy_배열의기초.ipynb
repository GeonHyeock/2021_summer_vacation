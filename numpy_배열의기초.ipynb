{
 "cells": [
  {
   "cell_type": "code",
   "execution_count": 1,
   "metadata": {},
   "outputs": [
    {
     "data": {
      "text/plain": [
       "'1.19.2'"
      ]
     },
     "execution_count": 1,
     "metadata": {},
     "output_type": "execute_result"
    }
   ],
   "source": [
    "import numpy\n",
    "numpy.__version__"
   ]
  },
  {
   "cell_type": "code",
   "execution_count": 2,
   "metadata": {},
   "outputs": [],
   "source": [
    "import numpy as np"
   ]
  },
  {
   "cell_type": "code",
   "execution_count": 3,
   "metadata": {},
   "outputs": [],
   "source": [
    "np?"
   ]
  },
  {
   "cell_type": "code",
   "execution_count": 4,
   "metadata": {},
   "outputs": [
    {
     "data": {
      "text/plain": [
       "[bool, str, float, int]"
      ]
     },
     "execution_count": 4,
     "metadata": {},
     "output_type": "execute_result"
    }
   ],
   "source": [
    "# 파이썬의 리스트는 유연하여 서로 다른 타입의 데이터를 리스트에 담을 수 있다\n",
    "L = [True, \"2\", 3.0,4]\n",
    "[type(item) for item in L]"
   ]
  },
  {
   "cell_type": "code",
   "execution_count": 5,
   "metadata": {},
   "outputs": [
    {
     "data": {
      "text/plain": [
       "array('i', [0, 1, 2, 3, 4, 5, 6, 7, 8, 9])"
      ]
     },
     "execution_count": 5,
     "metadata": {},
     "output_type": "execute_result"
    }
   ],
   "source": [
    "#파이썬의 고정 타입 배열\n",
    "import array\n",
    "L = list(range(10))\n",
    "A = array.array('i' , L)\n",
    "A"
   ]
  },
  {
   "cell_type": "code",
   "execution_count": 6,
   "metadata": {},
   "outputs": [
    {
     "name": "stdout",
     "output_type": "stream",
     "text": [
      "A1 = [1 4 2 5 3],\n",
      "A2 = [3.14 4.   2.   3.  ]\n",
      "A3 = [1. 2. 3. 4.]\n",
      "A4 = [[2 3 4]\n",
      " [4 5 6]\n",
      " [6 7 8]]\n"
     ]
    }
   ],
   "source": [
    "#파이썬 리스트에서 배열 만들기\n",
    "\n",
    "# 넘파이의 배열의 모든 요소는 같은 타입이다. 타입이 일치하지 않으면 상위 타입을 취하게 된다.\n",
    "A1 = np.array([1,4,2,5,3])\n",
    "A2 = np.array([3.14, 4,2, 3])\n",
    "print(f'A1 = {A1},\\nA2 = {A2}')\n",
    "\n",
    "# 배열의 데이터 타입을 결정해주려면 dtype키워드를 사용\n",
    "A3 = np.array([1,2,3,4], dtype = 'float32')\n",
    "print(f'A3 = {A3}')\n",
    "\n",
    "#리스트를 중첩하면 다차원 배열이 된다\n",
    "A4 = np.array([range(i,i+3) for i in [2,4,6]])\n",
    "print(f'A4 = {A4}')\n"
   ]
  },
  {
   "cell_type": "code",
   "execution_count": 7,
   "metadata": {},
   "outputs": [
    {
     "data": {
      "text/plain": [
       "array([[1., 0., 0.],\n",
       "       [0., 1., 0.],\n",
       "       [0., 0., 1.]])"
      ]
     },
     "execution_count": 7,
     "metadata": {},
     "output_type": "execute_result"
    }
   ],
   "source": [
    "#처음부터 배열 만들기\n",
    "\n",
    "#0으로 채운 길이 10의 정수 배열\n",
    "np.zeros(10, dtype=int)\n",
    "\n",
    "# 1로 채운 3x5 부동 소수점 배열\n",
    "np.ones((3,5), dtype=float)\n",
    "\n",
    "# 3.14로 채운 3x5 배열\n",
    "np.full((3,5), 3.14)\n",
    "\n",
    "# 0에서 2씩 더하여 20까지 채운 배열\n",
    "np.arange(0,21,2)\n",
    "\n",
    "# 0과 1 사이에 일정한 간격을 가진 다섯 개의 값으로 채운 배열\n",
    "np.linspace(0,1,5)\n",
    "\n",
    "# 균등하게 분포된 3x3배열 , 0과 1사이의 난수\n",
    "np.random.random((3,3))\n",
    "\n",
    "# 표준정규분포를 따르는 난수로 채운 3x3 배열\n",
    "np.random.normal(0,1,(3,3))\n",
    "\n",
    "# 0,10 구간의 임의의 정수로 채운 3x3배열 만들기\n",
    "np.random.randint(0,10,(3,3))\n",
    "\n",
    "# 3x3 단위 행렬\n",
    "np.eye(3)"
   ]
  },
  {
   "cell_type": "code",
   "execution_count": 8,
   "metadata": {},
   "outputs": [
    {
     "data": {
      "text/plain": [
       "array([0, 0, 0, 0, 0, 0, 0, 0, 0, 0], dtype=int16)"
      ]
     },
     "execution_count": 8,
     "metadata": {},
     "output_type": "execute_result"
    }
   ],
   "source": [
    "# numpy 표준 데이터 타입 bool, int, uint, float, complex\n",
    "\n",
    "np.zeros(10, dtype=\"int16\")\n",
    "np.zeros(10, dtype=np.int16)"
   ]
  },
  {
   "cell_type": "code",
   "execution_count": 9,
   "metadata": {},
   "outputs": [
    {
     "name": "stdout",
     "output_type": "stream",
     "text": [
      "x3 ndim :  3\n",
      "x3 shape : (3, 4, 5)\n",
      "x3 size :  60\n",
      "x3 dtype :  int64\n",
      "x3 item size : 8 bytes\n",
      "x3 nbytes : 480 bytes\n"
     ]
    }
   ],
   "source": [
    "# numpy 배열의 기초\n",
    "\n",
    "#배열 속성 지정\n",
    "\n",
    "#1차원 ~ 3차원 배열\n",
    "x1 = np.random.randint(10, size=6) \n",
    "x2 = np.random.randint(10, size=(3,4)) \n",
    "x3 = np.random.randint(10, size=(3,4,5)) \n",
    "\n",
    "#배열의 속성\n",
    "print(\"x3 ndim : \",x3.ndim)\n",
    "print(\"x3 shape :\",x3.shape)\n",
    "print(\"x3 size : \",x3.size)\n",
    "print(\"x3 dtype : \",x3.dtype)\n",
    "print(f'x3 item size : {x3.itemsize} bytes')\n",
    "print(f'x3 nbytes : {x3.nbytes} bytes')"
   ]
  },
  {
   "cell_type": "code",
   "execution_count": 10,
   "metadata": {},
   "outputs": [
    {
     "data": {
      "text/plain": [
       "3"
      ]
     },
     "execution_count": 10,
     "metadata": {},
     "output_type": "execute_result"
    }
   ],
   "source": [
    "# 배열 인덱싱\n",
    "x1[0]\n",
    "x1[-1]\n",
    "\n",
    "x2[0,1]\n",
    "x2[0,-3]\n",
    "x2[0,0] = 12 \n",
    "x2[0,0]\n",
    "\n",
    "# 주의할점 : 넘파이의 배열은 고정 타입을 갖으므로 정수배열에 부동소수점 값을 집어 넣으면 소숫점 이하를 잘라버림\n",
    "x1[1] = 3.141592\n",
    "x1[1]"
   ]
  },
  {
   "cell_type": "code",
   "execution_count": 21,
   "metadata": {},
   "outputs": [
    {
     "name": "stdout",
     "output_type": "stream",
     "text": [
      "[[12  4  1  1]\n",
      " [ 1  6  7  0]\n",
      " [ 5  0  0  2]]\n"
     ]
    },
    {
     "data": {
      "text/plain": [
       "array([12,  4,  1,  1])"
      ]
     },
     "execution_count": 21,
     "metadata": {},
     "output_type": "execute_result"
    }
   ],
   "source": [
    "# 배열 슬라이싱 : 하위 배열에 접근하기\n",
    "# x[start:stop:step]\n",
    "\n",
    "x = np.arange(10)\n",
    "x[:5]\n",
    "x[5:]\n",
    "x[4:7]\n",
    "x[::2]\n",
    "x[1::2]\n",
    "x[::-1]\n",
    "x[5::-2]\n",
    "\n",
    "print(x2)\n",
    "x2[:2,:3] # 2개의 행 3개의 열\n",
    "x2[:,::2] # 한 열 걸러 하나씩\n",
    "x2[::-1,::-1]\n",
    "\n",
    "x2[:,0] # x2의 첫번째 열\n",
    "x2[0,:] # x2의 첫번째 행"
   ]
  },
  {
   "cell_type": "code",
   "execution_count": 34,
   "metadata": {},
   "outputs": [
    {
     "data": {
      "text/plain": [
       "array([[99,  4,  1,  1],\n",
       "       [ 1,  6,  7,  0],\n",
       "       [ 5,  0,  0,  2]])"
      ]
     },
     "execution_count": 34,
     "metadata": {},
     "output_type": "execute_result"
    }
   ],
   "source": [
    "# 사본이 아닌 뷰로서의 하위 배열\n",
    "# 배열 슬라이스가 배열 데이터의 사본이 아니라 뷰로 반환한다 따라서 사본을 만들기 위해서는 함수 copy를 이용\n",
    "x2_sub = x2[:2,:2]\n",
    "x2_sub[0,0] = 99 # x2_sub의 원소를 변경하면 x2도 변경됨\n",
    "x2\n",
    "\n",
    "x2_sub_copy = x2[:2,2:].copy()\n",
    "x2_sub_copy[0,0] = 42 #x2_sub_copy의 원소를 변경하면 x2는 변경이 안됨\n",
    "x2"
   ]
  },
  {
   "cell_type": "code",
   "execution_count": 45,
   "metadata": {},
   "outputs": [
    {
     "name": "stdout",
     "output_type": "stream",
     "text": [
      "[[1 2 3]\n",
      " [4 5 6]\n",
      " [7 8 9]]\n"
     ]
    },
    {
     "data": {
      "text/plain": [
       "array([[1],\n",
       "       [2],\n",
       "       [3]])"
      ]
     },
     "execution_count": 45,
     "metadata": {},
     "output_type": "execute_result"
    }
   ],
   "source": [
    "# 배열 재구조화\n",
    "grid = np.arange(1,10).reshape(3,3)\n",
    "print(grid)\n",
    "\n",
    "x = np.array([1,2,3])\n",
    "x.reshape((1,3)) ; x[np.newaxis, : ]  # reshape를 이용한 방법과 newaxis를 이용한 방법\n",
    "x.reshape((3,1)) ; x[ :, np.newaxis]  # reshape를 이용한 방법과 newaxis를 이용한 방법"
   ]
  },
  {
   "cell_type": "code",
   "execution_count": 55,
   "metadata": {},
   "outputs": [
    {
     "data": {
      "text/plain": [
       "array([[ 9,  8,  7, 99],\n",
       "       [ 6,  5,  4, 99]])"
      ]
     },
     "execution_count": 55,
     "metadata": {},
     "output_type": "execute_result"
    }
   ],
   "source": [
    "# 배열 연결\n",
    "\n",
    "# 연결 np.concatenate : 튜플이나 배열의 리스트를 첫 번째 인수로 취함\n",
    "x = np.array([1,2,3])\n",
    "y = np.array([3,2,1])\n",
    "np.concatenate([x,y])\n",
    "\n",
    "z = np.array([99,99,99])\n",
    "np.concatenate([x,y,z])\n",
    "\n",
    "grid = np.array([[1,2,3],\n",
    "                [4,5,6]])\n",
    "\n",
    "np.concatenate([grid,grid]) # 첫 번째 축을 따라 연결\n",
    "np.concatenate([grid,grid], axis=1) # 두 번째 축을 따라 연결 (0부터 시작하는 인덱스 방식)\n",
    "\n",
    "# np.vstack (수직 스택)\n",
    "x = np.array([1,2,3])\n",
    "grid = np.array([[9,8,7],\n",
    "                 [6,5,4]])\n",
    "np.vstack([x,grid])\n",
    "\n",
    "# np.hstack (수평 스택) \n",
    "y = np.array([[99],\n",
    "              [99]])\n",
    "np.hstack([grid,y])"
   ]
  },
  {
   "cell_type": "code",
   "execution_count": 73,
   "metadata": {},
   "outputs": [
    {
     "name": "stdout",
     "output_type": "stream",
     "text": [
      "[1 2 3] [99 99] [3 2 1]\n",
      "[[0 1 2 3]\n",
      " [4 5 6 7]]\n",
      "[[ 8  9 10 11]\n",
      " [12 13 14 15]]\n",
      "[[ 0  1]\n",
      " [ 4  5]\n",
      " [ 8  9]\n",
      " [12 13]]\n",
      "[[ 2  3]\n",
      " [ 6  7]\n",
      " [10 11]\n",
      " [14 15]]\n"
     ]
    }
   ],
   "source": [
    "# 배열 분할\n",
    "\n",
    "# np.split(x, 분할 지점)\n",
    "x = [1,2,3,99,99,3,2,1]\n",
    "x1 , x2 , x3 = np.split(x,[3,5])  \n",
    "print(x1,x2,x3)\n",
    "\n",
    "# np.hsplit, np.vsplit\n",
    "grid = np.arange(16).reshape((4,4))\n",
    "\n",
    "upper , lower = np.vsplit(grid,[2])\n",
    "print(upper)\n",
    "print(lower)\n",
    "\n",
    "left , right = np.hsplit(gird,[2])\n",
    "print(left)\n",
    "print(right)"
   ]
  },
  {
   "cell_type": "code",
   "execution_count": null,
   "metadata": {},
   "outputs": [],
   "source": []
  }
 ],
 "metadata": {
  "kernelspec": {
   "display_name": "Python 3",
   "language": "python",
   "name": "python3"
  },
  "language_info": {
   "codemirror_mode": {
    "name": "ipython",
    "version": 3
   },
   "file_extension": ".py",
   "mimetype": "text/x-python",
   "name": "python",
   "nbconvert_exporter": "python",
   "pygments_lexer": "ipython3",
   "version": "3.8.5"
  }
 },
 "nbformat": 4,
 "nbformat_minor": 4
}
