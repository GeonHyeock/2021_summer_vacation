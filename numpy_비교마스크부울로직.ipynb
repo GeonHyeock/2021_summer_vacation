{
 "cells": [
  {
   "cell_type": "code",
   "execution_count": 4,
   "metadata": {},
   "outputs": [
    {
     "data": {
      "text/plain": [
       "(365,)"
      ]
     },
     "execution_count": 4,
     "metadata": {},
     "output_type": "execute_result"
    }
   ],
   "source": [
    "# ex) 비온 날 세기\n",
    "import numpy as np\n",
    "import pandas as pd\n",
    "rainfall = pd.read_csv('/Users/heogeonhyeock/Downloads/seattle2014.csv')['PRCP'].values\n",
    "inches = rainfall / 254 # 1/10mm -> inches\n",
    "inches.shape"
   ]
  },
  {
   "cell_type": "code",
   "execution_count": 5,
   "metadata": {},
   "outputs": [
    {
     "data": {
      "image/png": "[encoded data removed]",
      "text/plain": [
       "<Figure size 432x288 with 1 Axes>"
      ]
     },
     "metadata": {},
     "output_type": "display_data"
    }
   ],
   "source": [
    "%matplotlib inline\n",
    "import matplotlib.pyplot as plt\n",
    "import seaborn; seaborn.set()\n",
    "plt.hist(inches, 40);"
   ]
  },
  {
   "cell_type": "code",
   "execution_count": 8,
   "metadata": {},
   "outputs": [
    {
     "data": {
      "text/plain": [
       "'\\n== : np.equal\\n!= : np.not_equal\\n<  : np.less\\n<= : np.less_equal\\n>  : np.greater\\n>= : np.greater_equal\\n'"
      ]
     },
     "execution_count": 8,
     "metadata": {},
     "output_type": "execute_result"
    }
   ],
   "source": [
    "# ufunc으로서의 비교 연산자\n",
    "x = np.array([1,2,3,4,5])\n",
    "x < 3\n",
    "(2 * x) == ( x ** 2)\n",
    "\n",
    "\"\"\"\n",
    "== : np.equal\n",
    "!= : np.not_equal\n",
    "<  : np.less\n",
    "<= : np.less_equal\n",
    ">  : np.greater\n",
    ">= : np.greater_equal\n",
    "\"\"\""
   ]
  },
  {
   "cell_type": "code",
   "execution_count": 15,
   "metadata": {},
   "outputs": [
    {
     "data": {
      "text/plain": [
       "array([[ True,  True,  True,  True],\n",
       "       [False, False,  True,  True],\n",
       "       [ True,  True, False, False]])"
      ]
     },
     "execution_count": 15,
     "metadata": {},
     "output_type": "execute_result"
    }
   ],
   "source": [
    "# 2차원에서의 비교 연산\n",
    "rng = np.random.RandomState(0)\n",
    "x = rng.randint(10, size=(3,4))\n",
    "x < 6"
   ]
  },
  {
   "cell_type": "code",
   "execution_count": 20,
   "metadata": {},
   "outputs": [
    {
     "name": "stdout",
     "output_type": "stream",
     "text": [
      "[[5 0 3 3]\n",
      " [7 9 3 5]\n",
      " [2 4 7 6]]\n"
     ]
    },
    {
     "data": {
      "text/plain": [
       "array([ True, False, False])"
      ]
     },
     "execution_count": 20,
     "metadata": {},
     "output_type": "execute_result"
    }
   ],
   "source": [
    "# 부울 배열로 작업하기\n",
    "print(x)\n",
    "np.count_nonzero(x < 6) # 6보다 작은 값의 갯수\n",
    "np.sum(x < 6) # True = 1 False = 0 으로 계산하므로 섬을 이용해서도 6보다 작은 값의 갯수를 구할 수 있다\n",
    "np.sum(x < 6, axis = 1) # 행별로 6보다 작은 값의 갯수\n",
    "np.all(x < 6, axis = 1) # 행별로 모든 값이 6보다 작은지에 대한 논리값"
   ]
  },
  {
   "cell_type": "code",
   "execution_count": 31,
   "metadata": {},
   "outputs": [
    {
     "data": {
      "text/plain": [
       "29"
      ]
     },
     "execution_count": 31,
     "metadata": {},
     "output_type": "execute_result"
    }
   ],
   "source": [
    "# 예제 비온 날 세기 , 부울 연산자\n",
    "np.sum((inches > 0.5) & (inches < 1)) # inches 가 0.5와 1 사이의 값\n",
    "np.sum(~(( inches <=0.5) | (inches >=1 ))) # 다른방법\n",
    "\n",
    "\"\"\"\n",
    "& : np.bitwise_and\n",
    "| : np.bitwise_or\n",
    "^ : np.bitwise_xor\n",
    "~ : np.bitsiwse_not\n",
    "\"\"\""
   ]
  },
  {
   "cell_type": "code",
   "execution_count": 38,
   "metadata": {},
   "outputs": [
    {
     "data": {
      "text/plain": [
       "array([0, 3, 3, 3, 2, 4])"
      ]
     },
     "execution_count": 38,
     "metadata": {},
     "output_type": "execute_result"
    }
   ],
   "source": [
    "#마스크로서의 부울 배열\n",
    "x < 5\n",
    "x[x<5] # True 인 위치에 있는 모든 값"
   ]
  },
  {
   "cell_type": "code",
   "execution_count": 47,
   "metadata": {},
   "outputs": [
    {
     "data": {
      "text/plain": [
       "0.20078740157480315"
      ]
     },
     "execution_count": 47,
     "metadata": {},
     "output_type": "execute_result"
    }
   ],
   "source": [
    "# 비가 온 모든 날에 대한 마스크 생성\n",
    "rainy = (inches > 0)\n",
    "# 여름에 해당하는 날에 대한 마스크 생성 , 6월 21일은 172번째 날\n",
    "summer = (np.arange(365) - 172 < 90) & (np.arange(365) - 172 > 0)\n",
    "np.median(inches[rainy]) # 비온날 강수량의 중앙값\n",
    "np.median(inches[summer]) #여름중 강수량의 중앙값\n",
    "np.max(inches[summer]) # 여름중 강수량의 최고값\n",
    "np.median(inches[rainy & ~summer]) #여름이 아닐때 비온날 중 강수량의 중앙값"
   ]
  },
  {
   "cell_type": "code",
   "execution_count": null,
   "metadata": {},
   "outputs": [],
   "source": [
    "\"\"\"\n",
    "and 와 or는 전체 객체에 대해 단일 부울 평가를 수행\n",
    "& 와 | 는 객체의 내용에 대해 여러 번 부울 평가를 수행\n",
    "부울 Numpy 배열에서는 대부분 후자를 선호\n",
    "\"\"\""
   ]
  }
 ],
 "metadata": {
  "kernelspec": {
   "display_name": "Python 3",
   "language": "python",
   "name": "python3"
  },
  "language_info": {
   "codemirror_mode": {
    "name": "ipython",
    "version": 3
   },
   "file_extension": ".py",
   "mimetype": "text/x-python",
   "name": "python",
   "nbconvert_exporter": "python",
   "pygments_lexer": "ipython3",
   "version": "3.8.5"
  }
 },
 "nbformat": 4,
 "nbformat_minor": 4
}
